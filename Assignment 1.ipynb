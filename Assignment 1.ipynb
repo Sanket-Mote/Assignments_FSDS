{
 "cells": [
  {
   "cell_type": "markdown",
   "metadata": {},
   "source": [
    "##### 1.\tWrite a Python program to print \"Hello Python\"?"
   ]
  },
  {
   "cell_type": "code",
   "execution_count": 1,
   "metadata": {},
   "outputs": [
    {
     "name": "stdout",
     "output_type": "stream",
     "text": [
      "Hello Python\n"
     ]
    }
   ],
   "source": [
    "print(\"Hello Python\")"
   ]
  },
  {
   "cell_type": "markdown",
   "metadata": {},
   "source": [
    "##### 2. Write a Python program to do arithmetical operations addition and division.?"
   ]
  },
  {
   "cell_type": "code",
   "execution_count": 11,
   "metadata": {},
   "outputs": [
    {
     "name": "stdout",
     "output_type": "stream",
     "text": [
      "Enter the 2 numbers you would like to do arithmetic operation with\n",
      "2\n",
      "0\n",
      "Select the operation you want to perform \n",
      " 1. Addition \n",
      " 2. Division\n",
      "2\n",
      "There is an exception : division by zero\n"
     ]
    }
   ],
   "source": [
    "print(\"Enter the 2 numbers you would like to do arithmetic operation with\")\n",
    "a = int(input())\n",
    "b = int(input())\n",
    "print(\"Select the operation you want to perform \\n 1. Addition \\n 2. Division\")\n",
    "d = int(input())\n",
    "try:\n",
    "    if d == 1:\n",
    "        print(\"Addition is {}\".format(a+b))\n",
    "    else:\n",
    "        print(\"Division is {}\".format(a/b))\n",
    "except Exception as e:\n",
    "    print(\"There is an exception : {}\".format(e))\n",
    "    "
   ]
  },
  {
   "cell_type": "markdown",
   "metadata": {},
   "source": [
    "##### 3.Write a Python program to find the area of a triangle?"
   ]
  },
  {
   "cell_type": "code",
   "execution_count": 19,
   "metadata": {},
   "outputs": [
    {
     "name": "stdout",
     "output_type": "stream",
     "text": [
      "Enter height of triangle 5\n",
      "Enter base of triangle 6\n",
      "Area of triangle is 15.0\n"
     ]
    }
   ],
   "source": [
    "def triangle(h,b):\n",
    "    print(\"Area of triangle is {}\".format((h * b) / 2))\n",
    "\n",
    "try:\n",
    "    h = int(input(\"Enter height of triangle \"))\n",
    "    b = int(input(\"Enter base of triangle \"))\n",
    "    triangle(h,b)\n",
    "    if type(h) != int :\n",
    "        print(\"Enter number only for Height\")\n",
    "    elif type(b) != int :\n",
    "        print(\"Enter number only for Base\")\n",
    "    \n",
    "except Exception as e:\n",
    "    print(\"There is an exception : {}\".format(e))   "
   ]
  },
  {
   "cell_type": "markdown",
   "metadata": {},
   "source": [
    "##### 4.Write a Python program to swap two variables?"
   ]
  },
  {
   "cell_type": "code",
   "execution_count": 14,
   "metadata": {},
   "outputs": [
    {
     "name": "stdout",
     "output_type": "stream",
     "text": [
      "Enter the number for A : 56\n",
      "Enter the number for B : 96\n",
      "Value of A after swapping is 96\n",
      "Value of B after swapping is 56\n"
     ]
    }
   ],
   "source": [
    "a = int(input(\"Enter the number for A : \"))\n",
    "b = int(input(\"Enter the number for B : \"))\n",
    "\n",
    "temp = a\n",
    "a = b\n",
    "b = temp\n",
    "\n",
    "print(\"Value of A after swapping is {}\".format(a))\n",
    "print(\"Value of B after swapping is {}\".format(b))"
   ]
  },
  {
   "cell_type": "markdown",
   "metadata": {},
   "source": [
    "##### 5.Write a Python program to generate a random number?"
   ]
  },
  {
   "cell_type": "code",
   "execution_count": 26,
   "metadata": {},
   "outputs": [
    {
     "data": {
      "text/plain": [
       "58"
      ]
     },
     "execution_count": 26,
     "metadata": {},
     "output_type": "execute_result"
    }
   ],
   "source": [
    "import random\n",
    "random.randint(0,99)"
   ]
  },
  {
   "cell_type": "code",
   "execution_count": null,
   "metadata": {},
   "outputs": [],
   "source": []
  }
 ],
 "metadata": {
  "kernelspec": {
   "display_name": "Python 3",
   "language": "python",
   "name": "python3"
  },
  "language_info": {
   "codemirror_mode": {
    "name": "ipython",
    "version": 3
   },
   "file_extension": ".py",
   "mimetype": "text/x-python",
   "name": "python",
   "nbconvert_exporter": "python",
   "pygments_lexer": "ipython3",
   "version": "3.8.3"
  }
 },
 "nbformat": 4,
 "nbformat_minor": 4
}
