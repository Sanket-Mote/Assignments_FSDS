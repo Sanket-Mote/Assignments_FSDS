{
 "cells": [
  {
   "cell_type": "markdown",
   "metadata": {},
   "source": [
    "#### 1.\tWrite a Python Program to Find the Factorial of a Number?"
   ]
  },
  {
   "cell_type": "code",
   "execution_count": 18,
   "metadata": {},
   "outputs": [
    {
     "name": "stdout",
     "output_type": "stream",
     "text": [
      "Enter the Integer5\n",
      "j 0\n",
      "j 1\n",
      "j 2\n",
      "j 3\n",
      "j 4\n",
      "-5\n",
      "j 0\n",
      "j 1\n",
      "j 2\n",
      "j 3\n",
      "-4\n",
      "j 0\n",
      "j 1\n",
      "j 2\n",
      "-3\n",
      "j 0\n",
      "j 1\n",
      "-2\n",
      "j 0\n",
      "-1\n"
     ]
    }
   ],
   "source": [
    "i = int(input(\"Enter the Integer\"))\n",
    "for i in range(-i,0):\n",
    "    for j in range(-i):\n",
    "        print(\"j {}\".format(j))\n",
    "    print(i)"
   ]
  },
  {
   "cell_type": "code",
   "execution_count": null,
   "metadata": {},
   "outputs": [],
   "source": []
  },
  {
   "cell_type": "markdown",
   "metadata": {},
   "source": [
    "#### 2.\tWrite a Python Program to Display the multiplication Table?"
   ]
  },
  {
   "cell_type": "code",
   "execution_count": 23,
   "metadata": {},
   "outputs": [
    {
     "name": "stdout",
     "output_type": "stream",
     "text": [
      "Enter the Integer6\n",
      "6 * 1 = 6\n",
      "6 * 2 = 12\n",
      "6 * 3 = 18\n",
      "6 * 4 = 24\n",
      "6 * 5 = 30\n",
      "6 * 6 = 36\n",
      "6 * 7 = 42\n",
      "6 * 8 = 48\n",
      "6 * 9 = 54\n",
      "6 * 10 = 60\n"
     ]
    }
   ],
   "source": [
    "k = int(input(\"Enter the Integer\"))\n",
    "for i in range(1,11):\n",
    "    print(\"{} * {} = {}\".format(k,i,k*i))"
   ]
  },
  {
   "cell_type": "markdown",
   "metadata": {},
   "source": [
    "#### 3.Write a Python Program to Print the Fibonacci sequence?"
   ]
  },
  {
   "cell_type": "code",
   "execution_count": 33,
   "metadata": {},
   "outputs": [
    {
     "name": "stdout",
     "output_type": "stream",
     "text": [
      "Enter the Integer 8\n",
      "Fibonacci Number : 21\n",
      "Fibonacci Sequence : [1, 2, 3, 5, 8, 13, 21]\n"
     ]
    }
   ],
   "source": [
    "k = int(input(\"Enter the Integer \"))\n",
    "def fib(n):\n",
    "    a = 0\n",
    "    b = 1\n",
    "    d = []\n",
    "    for i in range(2,n+1):\n",
    "        c = a + b\n",
    "        a = b\n",
    "        b = c\n",
    "        d.append(c)\n",
    "    print(\"Fibonacci Number : {}\".format(c))\n",
    "    print(\"Fibonacci Sequence : {}\".format(d))\n",
    "        \n",
    "fib(k)"
   ]
  },
  {
   "cell_type": "markdown",
   "metadata": {},
   "source": [
    "#### 4.Write a Python Program to Check Armstrong Number?"
   ]
  },
  {
   "cell_type": "code",
   "execution_count": null,
   "metadata": {},
   "outputs": [],
   "source": [
    "k = int(input(\"Enter the Integer \"))"
   ]
  },
  {
   "cell_type": "markdown",
   "metadata": {},
   "source": [
    "#### 5.Write a Python Program to Find Armstrong Number in an Interval?"
   ]
  },
  {
   "cell_type": "code",
   "execution_count": null,
   "metadata": {},
   "outputs": [],
   "source": []
  },
  {
   "cell_type": "markdown",
   "metadata": {},
   "source": [
    "#### 6.Write a Python Program to Find the Sum of Natural Numbers?"
   ]
  },
  {
   "cell_type": "code",
   "execution_count": null,
   "metadata": {},
   "outputs": [],
   "source": []
  },
  {
   "cell_type": "code",
   "execution_count": null,
   "metadata": {},
   "outputs": [],
   "source": []
  }
 ],
 "metadata": {
  "kernelspec": {
   "display_name": "Python 3",
   "language": "python",
   "name": "python3"
  },
  "language_info": {
   "codemirror_mode": {
    "name": "ipython",
    "version": 3
   },
   "file_extension": ".py",
   "mimetype": "text/x-python",
   "name": "python",
   "nbconvert_exporter": "python",
   "pygments_lexer": "ipython3",
   "version": "3.8.3"
  }
 },
 "nbformat": 4,
 "nbformat_minor": 4
}
